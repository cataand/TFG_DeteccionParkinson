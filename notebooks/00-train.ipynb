{
 "cells": [
  {
   "cell_type": "code",
   "execution_count": null,
   "metadata": {
    "collapsed": true
   },
   "outputs": [],
   "source": [
    "%load_ext autoreload\n",
    "%autoreload 2"
   ]
  },
  {
   "cell_type": "code",
   "execution_count": null,
   "outputs": [],
   "source": [
    "import os\n",
    "import warnings\n",
    "\n",
    "os.environ['CUDA_VISIBLE_DEVICES'] = '-1'\n",
    "warnings.filterwarnings('ignore')"
   ],
   "metadata": {
    "collapsed": false
   }
  },
  {
   "cell_type": "code",
   "execution_count": null,
   "outputs": [],
   "source": [
    "import pandas as pd\n",
    "from pathlib import Path\n",
    "\n",
    "results_folder = Path(\"../data/results\")\n",
    "results_folder.mkdir(parents=True, exist_ok=True)"
   ],
   "metadata": {
    "collapsed": false
   }
  },
  {
   "cell_type": "markdown",
   "source": [
    "# Load data"
   ],
   "metadata": {
    "collapsed": false
   }
  },
  {
   "cell_type": "code",
   "execution_count": null,
   "outputs": [],
   "source": [
    "from paddel.preprocessing.features import get_data, clean_data\n",
    "\n",
    "y, misc_features, classic_features, fresh_features = get_data(Path(\"../data/raw\"), Path(\"../data/cache\"))"
   ],
   "metadata": {
    "collapsed": false
   }
  },
  {
   "cell_type": "code",
   "execution_count": null,
   "outputs": [],
   "source": [
    "from tsfresh import select_features\n",
    "\n",
    "clean_data(y, misc_features, classic_features, fresh_features)"
   ],
   "metadata": {
    "collapsed": false
   }
  },
  {
   "cell_type": "markdown",
   "source": [
    "# Models to try"
   ],
   "metadata": {
    "collapsed": false
   }
  },
  {
   "cell_type": "code",
   "execution_count": null,
   "outputs": [],
   "source": [
    "from xgboost import XGBClassifier\n",
    "from sklearn.discriminant_analysis import QuadraticDiscriminantAnalysis\n",
    "from sklearn.neural_network import MLPClassifier\n",
    "from sklearn.tree import DecisionTreeClassifier\n",
    "from sklearn.ensemble import RandomForestClassifier, AdaBoostClassifier\n",
    "from sklearn.neighbors import KNeighborsClassifier\n",
    "from sklearn.naive_bayes import GaussianNB\n",
    "from sklearn.svm import SVC\n",
    "\n",
    "models = {\n",
    "    \"SVC\": SVC,\n",
    "    \"GaussianNB\": GaussianNB,\n",
    "    \"KNeighborsClassifier\": KNeighborsClassifier,\n",
    "    \"RandomForestClassifier\": RandomForestClassifier,\n",
    "    \"DecisionTreeClassifier\": DecisionTreeClassifier,\n",
    "    \"MLPClassifier\": MLPClassifier,\n",
    "    \"AdaBoostClassifier\": AdaBoostClassifier,\n",
    "    \"XGBClassifier\": XGBClassifier,\n",
    "    \"QuadraticDiscriminantAnalysis\": QuadraticDiscriminantAnalysis\n",
    "}"
   ],
   "metadata": {
    "collapsed": false
   }
  },
  {
   "cell_type": "markdown",
   "source": [
    "# Features to try"
   ],
   "metadata": {
    "collapsed": false
   }
  },
  {
   "cell_type": "code",
   "execution_count": null,
   "outputs": [],
   "source": [
    "from tsfresh.feature_selection.relevance import calculate_relevance_table\n",
    "\n",
    "extended_classic_features = pd.merge(misc_features, classic_features, left_index=True, right_index=True)\n",
    "\n",
    "features_to_try = {\n",
    "    \"extended_classic_features\": [pd.merge(misc_features, classic_features, left_index=True, right_index=True)],\n",
    "    \"extended_fresh_features\": [],\n",
    "    \"all_features\": [],\n",
    "}\n",
    "\n",
    "extended_fresh_features = pd.merge(misc_features, fresh_features, left_index=True, right_index=True)\n",
    "\n",
    "extended_fresh_features_rt = calculate_relevance_table(extended_fresh_features, y)\n",
    "extended_fresh_features_rt = extended_fresh_features_rt[extended_fresh_features_rt.relevant]\n",
    "extended_fresh_features_rt.sort_values(\"p_value\", inplace=True)\n",
    "\n",
    "all_features = pd.merge(extended_classic_features, fresh_features, left_index=True, right_index=True)\n",
    "\n",
    "all_features_rt = calculate_relevance_table(all_features, y)\n",
    "all_features_rt = all_features_rt[all_features_rt.relevant]\n",
    "all_features_rt.sort_values(\"p_value\", inplace=True)\n",
    "\n",
    "for num_features in [20, 40, 60, 80, 100]:\n",
    "    extended_fresh_feature_names = extended_fresh_features_rt[\"feature\"][:num_features]\n",
    "    all_feature_names = all_features_rt[\"feature\"][:num_features]\n",
    "\n",
    "    features_to_try[\"extended_fresh_features\"].append(extended_fresh_features[extended_fresh_feature_names])\n",
    "    features_to_try[\"all_features\"].append(all_features[all_feature_names])"
   ],
   "metadata": {
    "collapsed": false
   }
  },
  {
   "cell_type": "markdown",
   "source": [
    "# Training"
   ],
   "metadata": {
    "collapsed": false
   }
  },
  {
   "cell_type": "code",
   "execution_count": null,
   "outputs": [],
   "source": [
    "from sklearn.exceptions import UndefinedMetricWarning\n",
    "from imblearn.metrics import geometric_mean_score\n",
    "from sklearn.metrics import make_scorer, accuracy_score, f1_score\n",
    "from paddel import settings\n",
    "from sklearn.model_selection import GridSearchCV, RepeatedKFold\n",
    "from sklearn.preprocessing import QuantileTransformer\n",
    "from sklearn.pipeline import Pipeline\n",
    "from paddel.hyper_parameters.parameters import model_parameter_rules\n",
    "from paddel.hyper_parameters.parser import parse_hyper_parameters\n",
    "\n",
    "import warnings\n",
    "\n",
    "all_results = []\n",
    "\n",
    "for model_name in models:\n",
    "    model = models[model_name]\n",
    "\n",
    "    clf = Pipeline([\n",
    "        (\"scale\", QuantileTransformer(n_quantiles=20)),\n",
    "        (\"model\", model()),\n",
    "    ])\n",
    "\n",
    "    param_grid = parse_hyper_parameters(model_parameter_rules[model], prefix=\"model__\")\n",
    "\n",
    "    for features_name in features_to_try:\n",
    "        for features in features_to_try[features_name]:\n",
    "            grid = GridSearchCV(\n",
    "                estimator=clf,\n",
    "                param_grid=param_grid,\n",
    "                scoring={\n",
    "                    \"accuracy\": make_scorer(accuracy_score),\n",
    "                    \"f1\": make_scorer(f1_score),\n",
    "                    \"g-mean\": make_scorer(geometric_mean_score),\n",
    "                },\n",
    "                refit=\"f1\",\n",
    "                cv=RepeatedKFold(n_splits=2, n_repeats=5),\n",
    "                n_jobs=settings.max_processes,\n",
    "                verbose=2,\n",
    "            )\n",
    "\n",
    "            grid.fit(features, y)\n",
    "            results = pd.DataFrame(grid.cv_results_)\n",
    "            results.to_csv(results_folder / f\"{model_name}-{features_name}.csv\", index=False)\n",
    "\n",
    "            results.insert(0, 'feature_amount', features.shape[1])\n",
    "            results.insert(0, 'dataset', features_name)\n",
    "            results.insert(0, 'model', model_name)\n",
    "\n",
    "            all_results.append(results)\n",
    "\n",
    "all_results = pd.concat(all_results, ignore_index=True)\n",
    "all_results.to_csv(results_folder / \"all_results.csv\", index=False)"
   ],
   "metadata": {
    "collapsed": false
   }
  }
 ],
 "metadata": {
  "kernelspec": {
   "display_name": "Python 3",
   "language": "python",
   "name": "python3"
  },
  "language_info": {
   "codemirror_mode": {
    "name": "ipython",
    "version": 2
   },
   "file_extension": ".py",
   "mimetype": "text/x-python",
   "name": "python",
   "nbconvert_exporter": "python",
   "pygments_lexer": "ipython2",
   "version": "2.7.6"
  }
 },
 "nbformat": 4,
 "nbformat_minor": 0
}
