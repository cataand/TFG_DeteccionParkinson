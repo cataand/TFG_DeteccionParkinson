{
 "cells": [
  {
   "cell_type": "code",
   "execution_count": null,
   "metadata": {},
   "outputs": [],
   "source": [
    "import os\n",
    "import logging\n",
    "\n",
    "import pandas as pd\n",
    "from tsfresh import select_features\n",
    "\n",
    "from paddel.preprocessing.features import get_data, clean_data\n",
    "\n",
    "os.environ[\"PADDEL_VIDEOS_DIR\"] = \"../data/raw\"\n",
    "os.environ[\"PADDEL_CACHE_DIR\"] = \"../data/cache\"\n",
    "\n",
    "logging.basicConfig(level=logging.INFO)"
   ]
  },
  {
   "cell_type": "code",
   "execution_count": null,
   "outputs": [],
   "source": [
    "# Get data\n",
    "y, misc_features, classic_features, fresh_features = get_data()"
   ],
   "metadata": {
    "collapsed": false
   }
  },
  {
   "cell_type": "code",
   "execution_count": null,
   "outputs": [],
   "source": [
    "# Clean data\n",
    "clean_data(y, misc_features, classic_features, fresh_features)"
   ],
   "metadata": {
    "collapsed": false
   }
  },
  {
   "cell_type": "code",
   "execution_count": null,
   "outputs": [],
   "source": [
    "all_features = pd.merge(misc_features, classic_features, left_index=True, right_index=True)\n",
    "all_features = pd.merge(all_features, fresh_features, left_index=True, right_index=True)"
   ],
   "metadata": {
    "collapsed": false
   }
  },
  {
   "cell_type": "code",
   "execution_count": null,
   "outputs": [],
   "source": [
    "features_filtered = select_features(all_features, y)"
   ],
   "metadata": {
    "collapsed": false
   }
  },
  {
   "cell_type": "code",
   "execution_count": null,
   "outputs": [],
   "source": [
    "from sklearn.svm import SVC\n",
    "from sklearn.preprocessing import PolynomialFeatures, QuantileTransformer\n",
    "from sklearn.pipeline import Pipeline\n",
    "from sklearn.model_selection import GridSearchCV\n",
    "\n",
    "clf = Pipeline([\n",
    "    (\"features\", PolynomialFeatures(degree=2)),\n",
    "    (\"scale\", QuantileTransformer(n_quantiles=20)),\n",
    "    (\"model\", SVC()),\n",
    "])\n",
    "\n",
    "grid = GridSearchCV(\n",
    "    estimator=clf,\n",
    "    param_grid={\n",
    "        \"model__C\": [1],\n",
    "        \"model__kernel\": [\"poly\"],\n",
    "        \"model__degree\": [3],\n",
    "        \"model__gamma\": [\"scale\"],\n",
    "        \"model__class_weight\": [{0: weight, 1: 1} for weight in [1.5]]\n",
    "    },\n",
    "    cv=10,\n",
    "    n_jobs=-1,\n",
    "    verbose=1,\n",
    ")\n",
    "grid.fit(features_filtered, y)"
   ],
   "metadata": {
    "collapsed": false
   }
  },
  {
   "cell_type": "code",
   "execution_count": null,
   "outputs": [],
   "source": [
    "pd.DataFrame(grid.cv_results_)"
   ],
   "metadata": {
    "collapsed": false
   }
  }
 ],
 "metadata": {
  "kernelspec": {
   "display_name": "Python 3 (ipykernel)",
   "language": "python",
   "name": "python3"
  },
  "language_info": {
   "codemirror_mode": {
    "name": "ipython",
    "version": 3
   },
   "file_extension": ".py",
   "mimetype": "text/x-python",
   "name": "python",
   "nbconvert_exporter": "python",
   "pygments_lexer": "ipython3",
   "version": "3.9.16"
  }
 },
 "nbformat": 4,
 "nbformat_minor": 1
}
