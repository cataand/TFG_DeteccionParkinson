{
 "cells": [
  {
   "cell_type": "code",
   "execution_count": null,
   "metadata": {
    "collapsed": true
   },
   "outputs": [],
   "source": [
    "import logging\n",
    "import pickle\n",
    "from multiprocessing import Pool\n",
    "from pathlib import Path\n",
    "\n",
    "import pandas as pd\n",
    "\n",
    "from paddel.preprocessing.poses import extract_poses_df"
   ]
  },
  {
   "cell_type": "code",
   "execution_count": null,
   "outputs": [],
   "source": [
    "logging.basicConfig(level=logging.INFO)\n",
    "\n",
    "min_detection_seconds = 15\n",
    "\n",
    "data_dir = Path(\"../data\")\n",
    "file_features_path = data_dir / \"file_features_df.pkl\"\n",
    "y_path = data_dir / \"y.pkl\"\n",
    "poses_path = data_dir / \"poses_df.pkl\""
   ],
   "metadata": {
    "collapsed": false
   }
  },
  {
   "cell_type": "markdown",
   "source": [
    "Load file features"
   ],
   "metadata": {
    "collapsed": false
   }
  },
  {
   "cell_type": "code",
   "execution_count": null,
   "outputs": [],
   "source": [
    "with open(file_features_path, \"rb\") as f:\n",
    "    file_features_df = pickle.load(f)\n",
    "\n",
    "with open(y_path, \"rb\") as f:\n",
    "    y = pickle.load(f)"
   ],
   "metadata": {
    "collapsed": false
   }
  },
  {
   "cell_type": "markdown",
   "source": [
    "Extract poses"
   ],
   "metadata": {
    "collapsed": false
   }
  },
  {
   "cell_type": "code",
   "execution_count": null,
   "outputs": [],
   "source": [
    "with Pool() as p:\n",
    "    poses_dfs = p.map(extract_poses_df, file_features_df.to_dict(orient=\"index\").items())"
   ],
   "metadata": {
    "collapsed": false
   }
  },
  {
   "cell_type": "markdown",
   "source": [
    "Concatenate dataframes and filter when not enough poses detected"
   ],
   "metadata": {
    "collapsed": false
   }
  },
  {
   "cell_type": "code",
   "execution_count": null,
   "outputs": [],
   "source": [
    "all_poses_df = pd.DataFrame()\n",
    "\n",
    "for poses_df in poses_dfs:\n",
    "    index = poses_df.loc[0][\"id\"]\n",
    "    framerate = file_features_df.loc[index][\"framerate\"]\n",
    "    frame_count = len(poses_df.index)\n",
    "\n",
    "    if frame_count < framerate * min_detection_seconds:\n",
    "        file_features_df.drop(index, inplace=True)\n",
    "        y.drop(index, inplace=True)\n",
    "        continue\n",
    "\n",
    "    all_poses_df = pd.concat([all_poses_df, poses_df], axis=0, ignore_index=True, copy=False)"
   ],
   "metadata": {
    "collapsed": false
   }
  },
  {
   "cell_type": "markdown",
   "source": [
    "Save poses and update file features and target"
   ],
   "metadata": {
    "collapsed": false
   }
  },
  {
   "cell_type": "code",
   "execution_count": null,
   "outputs": [],
   "source": [
    "with open(poses_path, \"wb\") as f:\n",
    "    pickle.dump(all_poses_df, f)\n",
    "\n",
    "with open(file_features_path, \"wb\") as f:\n",
    "    pickle.dump(file_features_df, f)\n",
    "\n",
    "with open(y_path, \"wb\") as f:\n",
    "    pickle.dump(y, f)"
   ],
   "metadata": {
    "collapsed": false
   }
  }
 ],
 "metadata": {
  "kernelspec": {
   "display_name": "Python 3",
   "language": "python",
   "name": "python3"
  },
  "language_info": {
   "codemirror_mode": {
    "name": "ipython",
    "version": 2
   },
   "file_extension": ".py",
   "mimetype": "text/x-python",
   "name": "python",
   "nbconvert_exporter": "python",
   "pygments_lexer": "ipython2",
   "version": "2.7.6"
  }
 },
 "nbformat": 4,
 "nbformat_minor": 0
}
