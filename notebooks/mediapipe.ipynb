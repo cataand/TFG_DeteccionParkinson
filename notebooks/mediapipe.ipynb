{
 "cells": [
  {
   "cell_type": "code",
   "execution_count": 36,
   "metadata": {},
   "outputs": [],
   "source": [
    "import os\n",
    "\n",
    "import cv2\n",
    "import mediapipe as mp\n",
    "import numpy as np"
   ]
  },
  {
   "cell_type": "code",
   "execution_count": 37,
   "outputs": [],
   "source": [
    "if not os.path.exists('video_in'):\n",
    "    os.mkdir('video_in')\n",
    "\n",
    "if not os.path.exists('video_out'):\n",
    "    os.mkdir('video_out')"
   ],
   "metadata": {
    "collapsed": false
   }
  },
  {
   "cell_type": "code",
   "execution_count": 38,
   "outputs": [],
   "source": [
    "mp_drawing = mp.solutions.drawing_utils\n",
    "mp_drawing_styles = mp.solutions.drawing_styles\n",
    "mp_hands = mp.solutions.hands\n",
    "hands = mp_hands.Hands(\n",
    "    static_image_mode=False,\n",
    "    max_num_hands=1,\n",
    "    model_complexity=1,\n",
    "    min_detection_confidence=.9,\n",
    "    min_tracking_confidence=.9,\n",
    ")"
   ],
   "metadata": {
    "collapsed": false
   }
  },
  {
   "cell_type": "code",
   "execution_count": 39,
   "outputs": [],
   "source": [
    "def get_landmarks(image):\n",
    "    results = hands.process(image)\n",
    "\n",
    "    # If hand not detected, retry, this time without\n",
    "    # tracking landmarks from previous image\n",
    "    if not results.multi_hand_landmarks:\n",
    "        results = hands.process(image)\n",
    "\n",
    "    return results.multi_hand_landmarks\n",
    "\n",
    "def landmark_image(image, landmarks):\n",
    "    for hand_landmarks in landmarks:\n",
    "        mp_drawing.draw_landmarks(\n",
    "            image,\n",
    "            hand_landmarks,\n",
    "            mp_hands.HAND_CONNECTIONS,\n",
    "        )\n",
    "\n",
    "def annotate_image(image):\n",
    "    landmarks = get_landmarks(image)\n",
    "    if landmarks:\n",
    "        landmark_image(image, landmarks)\n",
    "    return image\n",
    "\n",
    "def annotate_black_image(image):\n",
    "    landmarks = get_landmarks(image)\n",
    "    res = np.zeros_like(image)\n",
    "    if landmarks:\n",
    "        landmark_image(res, landmarks)\n",
    "    return res"
   ],
   "metadata": {
    "collapsed": false
   }
  },
  {
   "cell_type": "code",
   "execution_count": 40,
   "outputs": [],
   "source": [
    "def get_video_info(video_path):\n",
    "    vc = cv2.VideoCapture(video_path)\n",
    "\n",
    "    ret = {\n",
    "        'width': int(vc.get(cv2.CAP_PROP_FRAME_WIDTH)),\n",
    "        'height': int(vc.get(cv2.CAP_PROP_FRAME_HEIGHT)),\n",
    "        'frames': int(vc.get(cv2.CAP_PROP_FRAME_COUNT)),\n",
    "        'fps': vc.get(cv2.CAP_PROP_FPS),\n",
    "        'fourcc': int(vc.get(cv2.CAP_PROP_FOURCC)),\n",
    "    }\n",
    "\n",
    "    vc.release()\n",
    "    return ret\n",
    "\n",
    "def read_video(video_path):\n",
    "    vc = cv2.VideoCapture(video_path)\n",
    "    is_portrait = vc.get(cv2.CAP_PROP_FRAME_WIDTH) < vc.get(cv2.CAP_PROP_FRAME_HEIGHT)\n",
    "    while vc.grab():\n",
    "        bgr = vc.retrieve()[1]\n",
    "        if is_portrait:\n",
    "            bgr = cv2.rotate(bgr, cv2.ROTATE_180)\n",
    "        yield cv2.cvtColor(bgr, cv2.COLOR_BGR2RGB)\n",
    "    vc.release()\n",
    "\n",
    "def write_video(video_path, video_info, video):\n",
    "    vw = cv2.VideoWriter(\n",
    "        video_path,\n",
    "        video_info['fourcc'],\n",
    "        video_info['fps'],\n",
    "        (video_info['width'], video_info['height'])\n",
    "    )\n",
    "    for frame in video:\n",
    "        bgr = cv2.cvtColor(frame, cv2.COLOR_RGB2BGR)\n",
    "        vw.write(bgr)\n",
    "    vw.release()"
   ],
   "metadata": {
    "collapsed": false
   }
  },
  {
   "cell_type": "code",
   "execution_count": 41,
   "outputs": [],
   "source": [
    "def process_video(video_filename):\n",
    "    video_path = f'video_in/{video_filename}'\n",
    "    video_info = get_video_info(video_path)\n",
    "    video = read_video(video_path)\n",
    "\n",
    "    write_video(f'video_out/{video_filename}', video_info, map(annotate_black_image, video))"
   ],
   "metadata": {
    "collapsed": false
   }
  },
  {
   "cell_type": "code",
   "execution_count": 42,
   "outputs": [],
   "source": [
    "process_video('CONTROL01_15-12-2021_DCHA (M-71-D).mp4')"
   ],
   "metadata": {
    "collapsed": false
   }
  }
 ],
 "metadata": {
  "kernelspec": {
   "display_name": "Python 3 (ipykernel)",
   "language": "python",
   "name": "python3"
  },
  "language_info": {
   "codemirror_mode": {
    "name": "ipython",
    "version": 3
   },
   "file_extension": ".py",
   "mimetype": "text/x-python",
   "name": "python",
   "nbconvert_exporter": "python",
   "pygments_lexer": "ipython3",
   "version": "3.7.13"
  }
 },
 "nbformat": 4,
 "nbformat_minor": 1
}
