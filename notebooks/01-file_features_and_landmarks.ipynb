{
 "cells": [
  {
   "cell_type": "code",
   "execution_count": null,
   "metadata": {},
   "outputs": [],
   "source": [
    "%load_ext autoreload\n",
    "%autoreload 2"
   ]
  },
  {
   "cell_type": "code",
   "execution_count": null,
   "metadata": {},
   "outputs": [],
   "source": [
    "from pathlib import Path\n",
    "\n",
    "data_dir = Path(\"../data\")\n",
    "\n",
    "raw_dir = data_dir / \"raw\"\n",
    "output_path = data_dir / \"file_features.pkl\""
   ]
  },
  {
   "cell_type": "code",
   "execution_count": null,
   "metadata": {},
   "outputs": [],
   "source": [
    "import logging\n",
    "import pandas as pd\n",
    "import numpy as np\n",
    "\n",
    "logging.basicConfig(level=logging.INFO)"
   ]
  },
  {
   "cell_type": "code",
   "execution_count": null,
   "metadata": {},
   "outputs": [],
   "source": [
    "from paddel import settings"
   ]
  },
  {
   "cell_type": "markdown",
   "metadata": {},
   "source": [
    "### Load video paths"
   ]
  },
  {
   "cell_type": "code",
   "execution_count": null,
   "metadata": {},
   "outputs": [],
   "source": [
    "df = pd.DataFrame(raw_dir.iterdir(), columns=[\"video_path\"])"
   ]
  },
  {
   "cell_type": "markdown",
   "source": [
    "### Drop if is not video"
   ],
   "metadata": {
    "collapsed": false
   }
  },
  {
   "cell_type": "code",
   "execution_count": null,
   "outputs": [],
   "source": [
    "from paddel.preprocessing.video import is_video\n",
    "\n",
    "indexes_to_keep = df[np.vectorize(is_video)(df[\"video_path\"])].index\n",
    "\n",
    "df = df.loc[indexes_to_keep]"
   ],
   "metadata": {
    "collapsed": false
   }
  },
  {
   "cell_type": "markdown",
   "metadata": {},
   "source": [
    "### Filename features"
   ]
  },
  {
   "cell_type": "code",
   "execution_count": null,
   "metadata": {},
   "outputs": [],
   "source": [
    "from paddel.preprocessing import extract_filename_features\n",
    "\n",
    "filename_features = pd.DataFrame.from_records(df[\"video_path\"].apply(extract_filename_features))\n",
    "\n",
    "df = pd.concat([df, filename_features], axis=1)\n",
    "\n",
    "df.drop(df[df[\"group\"] == -1].index, inplace=True)\n",
    "df.drop(df[df[\"hand\"] == -1].index, inplace=True)\n",
    "df.drop(df[df[\"handedness\"] == -1].index, inplace=True)"
   ]
  },
  {
   "cell_type": "markdown",
   "metadata": {},
   "source": [
    "### Video framerate"
   ]
  },
  {
   "cell_type": "code",
   "execution_count": null,
   "metadata": {},
   "outputs": [],
   "source": [
    "from paddel.preprocessing.video import extract_video_framerate\n",
    "\n",
    "df[\"framerate\"] = df[\"video_path\"].apply(extract_video_framerate)"
   ]
  },
  {
   "cell_type": "markdown",
   "metadata": {},
   "source": [
    "### Landmarks\n",
    "\n",
    "This could take a while depending on the hardware used"
   ]
  },
  {
   "cell_type": "code",
   "execution_count": null,
   "metadata": {},
   "outputs": [],
   "source": [
    "from paddel.preprocessing import extract_landmarks\n",
    "\n",
    "df[\"landmarks\"] = np.vectorize(extract_landmarks, otypes=\"O\")(df[\"video_path\"])\n",
    "df[\"landmark_count\"] = df[\"landmarks\"].apply(len)\n",
    "df[\"detection_time\"] = df[\"landmark_count\"] / df[\"framerate\"]\n",
    "\n",
    "df.drop(df[df[\"detection_time\"] < settings.preprocessing.min_detection_seconds].index, inplace=True)"
   ]
  },
  {
   "cell_type": "markdown",
   "source": [
    "### Save DataFrame"
   ],
   "metadata": {
    "collapsed": false
   }
  },
  {
   "cell_type": "code",
   "execution_count": null,
   "outputs": [],
   "source": [
    "df.to_pickle(output_path)"
   ],
   "metadata": {
    "collapsed": false
   }
  }
 ],
 "metadata": {
  "kernelspec": {
   "display_name": "Python 3 (ipykernel)",
   "language": "python",
   "name": "python3"
  },
  "language_info": {
   "codemirror_mode": {
    "name": "ipython",
    "version": 3
   },
   "file_extension": ".py",
   "mimetype": "text/x-python",
   "name": "python",
   "nbconvert_exporter": "python",
   "pygments_lexer": "ipython3",
   "version": "3.10.9"
  }
 },
 "nbformat": 4,
 "nbformat_minor": 1
}
