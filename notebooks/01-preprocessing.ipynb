{
 "cells": [
  {
   "cell_type": "code",
   "execution_count": null,
   "metadata": {
    "collapsed": true
   },
   "outputs": [],
   "source": [
    "%load_ext autoreload\n",
    "%autoreload 2"
   ]
  },
  {
   "cell_type": "code",
   "execution_count": null,
   "outputs": [],
   "source": [
    "import os\n",
    "\n",
    "os.environ[\"PADDEL_DIRS__RAW\"] = \"../data/raw\"\n",
    "os.environ[\"PADDEL_DIRS__CACHE\"] = \"../data\"\n",
    "\n",
    "MIN_DETECTION_TIME = 15"
   ],
   "metadata": {
    "collapsed": false
   }
  },
  {
   "cell_type": "code",
   "execution_count": null,
   "outputs": [],
   "source": [
    "import logging\n",
    "import pandas as pd\n",
    "import numpy as np\n",
    "\n",
    "logging.basicConfig(level=logging.INFO)"
   ],
   "metadata": {
    "collapsed": false
   }
  },
  {
   "cell_type": "code",
   "execution_count": null,
   "outputs": [],
   "source": [
    "from paddel import settings"
   ],
   "metadata": {
    "collapsed": false
   }
  },
  {
   "cell_type": "markdown",
   "source": [
    "### Load video paths"
   ],
   "metadata": {
    "collapsed": false
   }
  },
  {
   "cell_type": "code",
   "execution_count": null,
   "outputs": [],
   "source": [
    "df = pd.DataFrame(settings.dirs.raw.iterdir(), columns=[\"video_path\"])"
   ],
   "metadata": {
    "collapsed": false
   }
  },
  {
   "cell_type": "markdown",
   "source": [
    "### Filename features"
   ],
   "metadata": {
    "collapsed": false
   }
  },
  {
   "cell_type": "code",
   "execution_count": null,
   "outputs": [],
   "source": [
    "from paddel.preprocessing import extract_filename_features\n",
    "\n",
    "(\n",
    "    df[\"individual_type\"],\n",
    "    df[\"hand\"],\n",
    "    df[\"gender\"],\n",
    "    df[\"age\"],\n",
    "    df[\"handedness\"],\n",
    ") = np.vectorize(extract_filename_features)(df.video_path)\n",
    "\n",
    "df.drop(df[df.individual_type == -1].index, inplace=True)\n",
    "df.drop(df[df.hand == -1].index, inplace=True)\n",
    "df.drop(df[df.handedness == -1].index, inplace=True)"
   ],
   "metadata": {
    "collapsed": false
   }
  },
  {
   "cell_type": "markdown",
   "source": [
    "### Video framerate"
   ],
   "metadata": {
    "collapsed": false
   }
  },
  {
   "cell_type": "code",
   "execution_count": null,
   "outputs": [],
   "source": [
    "from paddel.preprocessing.video import extract_video_framerate\n",
    "\n",
    "df[\"framerate\"] = np.vectorize(extract_video_framerate)(df.video_path)\n",
    "\n",
    "df.drop(df[df.framerate == -1].index, inplace=True)"
   ],
   "metadata": {
    "collapsed": false
   }
  },
  {
   "cell_type": "markdown",
   "source": [
    "### Landmarks"
   ],
   "metadata": {
    "collapsed": false
   }
  },
  {
   "cell_type": "code",
   "execution_count": null,
   "outputs": [],
   "source": [
    "from paddel.preprocessing import extract_landmarks\n",
    "\n",
    "df[\"landmark_count\"] = df[\"video_path\"].map(extract_landmarks).map(len)"
   ],
   "metadata": {
    "collapsed": false
   }
  },
  {
   "cell_type": "code",
   "execution_count": null,
   "outputs": [],
   "source": [
    "df[\"detection_time\"] = df.landmark_count / df.framerate\n",
    "\n",
    "df.drop(df[df.detection_time < MIN_DETECTION_TIME].index, inplace=True)"
   ],
   "metadata": {
    "collapsed": false
   }
  },
  {
   "cell_type": "markdown",
   "source": [
    "### Classic features"
   ],
   "metadata": {
    "collapsed": false
   }
  },
  {
   "cell_type": "code",
   "execution_count": null,
   "outputs": [],
   "source": [
    "from paddel.preprocessing import extract_classic_features\n",
    "\n",
    "df[\"tap_rate\"], df[\"tap_rate_difference\"] = np.vectorize(extract_classic_features)(df[\"video_path\"].map(extract_landmarks), df[\"framerate\"])"
   ],
   "metadata": {
    "collapsed": false
   }
  }
 ],
 "metadata": {
  "kernelspec": {
   "display_name": "Python 3",
   "language": "python",
   "name": "python3"
  },
  "language_info": {
   "codemirror_mode": {
    "name": "ipython",
    "version": 2
   },
   "file_extension": ".py",
   "mimetype": "text/x-python",
   "name": "python",
   "nbconvert_exporter": "python",
   "pygments_lexer": "ipython2",
   "version": "2.7.6"
  }
 },
 "nbformat": 4,
 "nbformat_minor": 0
}
