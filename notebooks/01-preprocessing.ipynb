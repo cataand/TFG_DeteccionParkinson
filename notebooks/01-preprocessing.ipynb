{
 "cells": [
  {
   "cell_type": "code",
   "execution_count": null,
   "metadata": {
    "collapsed": true
   },
   "outputs": [],
   "source": [
    "%load_ext autoreload\n",
    "%autoreload 2"
   ]
  },
  {
   "cell_type": "code",
   "execution_count": null,
   "outputs": [],
   "source": [
    "import logging\n",
    "\n",
    "logging.basicConfig(level=logging.INFO)"
   ],
   "metadata": {
    "collapsed": false
   }
  },
  {
   "cell_type": "markdown",
   "source": [
    "### Load paths"
   ],
   "metadata": {
    "collapsed": false
   }
  },
  {
   "cell_type": "code",
   "execution_count": null,
   "outputs": [],
   "source": [
    "from pathlib import Path\n",
    "import pandas as pd\n",
    "\n",
    "raw_dir = Path(\"../data/raw\")\n",
    "work_dir = Path(\"../data\")\n",
    "landmarks_dir = work_dir / \"landmarks\"\n",
    "\n",
    "work_dir.mkdir(exist_ok=True)\n",
    "landmarks_dir.mkdir(exist_ok=True)\n",
    "\n",
    "df = pd.DataFrame(raw_dir.iterdir(), columns=[\"video_path\"]).astype(str)"
   ],
   "metadata": {
    "collapsed": false
   }
  },
  {
   "cell_type": "markdown",
   "source": [
    "### Get filenames"
   ],
   "metadata": {
    "collapsed": false
   }
  },
  {
   "cell_type": "code",
   "execution_count": null,
   "outputs": [],
   "source": [
    "df[\"filename\"] = df[\"video_path\"].map(lambda vp: Path(vp).stem)\n",
    "df[\"landmarks_path\"] = df[\"filename\"].map(lambda fn: landmarks_dir / f\"{fn}.pkl\").astype(str)"
   ],
   "metadata": {
    "collapsed": false
   }
  },
  {
   "cell_type": "markdown",
   "source": [
    "## Get filename features"
   ],
   "metadata": {
    "collapsed": false
   }
  },
  {
   "cell_type": "code",
   "execution_count": null,
   "outputs": [],
   "source": [
    "from paddel.preprocessing import extract_filename_features\n",
    "\n",
    "filename_features = df[\"filename\"].apply(extract_filename_features)\n",
    "df[filename_features.columns] = filename_features"
   ],
   "metadata": {
    "collapsed": false
   }
  },
  {
   "cell_type": "code",
   "execution_count": null,
   "outputs": [],
   "source": [
    "df.dropna(inplace=True)"
   ],
   "metadata": {
    "collapsed": false
   }
  },
  {
   "cell_type": "markdown",
   "source": [
    "### Substitute filename features"
   ],
   "metadata": {
    "collapsed": false
   }
  },
  {
   "cell_type": "code",
   "execution_count": null,
   "outputs": [],
   "source": [
    "from paddel.preprocessing.filename import substitute_individual_type, substitute_hand, substitute_gender, \\\n",
    "    substitute_age, substitute_handedness\n",
    "\n",
    "df[\"individual_type\"] = df[\"individual_type\"].map(substitute_individual_type)\n",
    "df[\"hand\"] = df[\"hand\"].map(substitute_hand)\n",
    "df[\"gender\"] = df[\"gender\"].map(substitute_gender)\n",
    "df[\"age\"] = df[\"age\"].map(substitute_age)\n",
    "df[\"handedness\"] = df[\"handedness\"].map(substitute_handedness)"
   ],
   "metadata": {
    "collapsed": false
   }
  },
  {
   "cell_type": "code",
   "execution_count": null,
   "outputs": [],
   "source": [
    "df = df[df[\"individual_type\"] != -1]\n",
    "df = df[df[\"hand\"] != -1]\n",
    "df = df[df[\"handedness\"] != -1]"
   ],
   "metadata": {
    "collapsed": false
   }
  },
  {
   "cell_type": "markdown",
   "source": [
    "### Get video framerate"
   ],
   "metadata": {
    "collapsed": false
   }
  },
  {
   "cell_type": "code",
   "execution_count": null,
   "outputs": [],
   "source": [
    "from paddel.preprocessing import extract_video_framerate\n",
    "\n",
    "df[\"framerate\"] = df[\"video_path\"].apply(extract_video_framerate)"
   ],
   "metadata": {
    "collapsed": false
   }
  },
  {
   "cell_type": "code",
   "execution_count": null,
   "outputs": [],
   "source": [
    "df.dropna(inplace=True)"
   ],
   "metadata": {
    "collapsed": false
   }
  },
  {
   "cell_type": "markdown",
   "source": [
    "## Get landmarks"
   ],
   "metadata": {
    "collapsed": false
   }
  },
  {
   "cell_type": "code",
   "execution_count": null,
   "outputs": [],
   "source": [
    "from paddel.preprocessing import extract_landmarks\n",
    "\n",
    "df[\"landmark_count\"] = df.apply(\n",
    "    lambda row: len(extract_landmarks(row[\"video_path\"], row[\"landmarks_path\"])),\n",
    "    axis=1\n",
    ")"
   ],
   "metadata": {
    "collapsed": false
   }
  },
  {
   "cell_type": "code",
   "execution_count": null,
   "outputs": [],
   "source": [
    "df.drop(df[df[\"landmark_count\"] / df[\"framerate\"] < 10].index, inplace=True)"
   ],
   "metadata": {
    "collapsed": false
   }
  },
  {
   "cell_type": "markdown",
   "source": [
    "### Remove unnecessary columns"
   ],
   "metadata": {
    "collapsed": false
   }
  },
  {
   "cell_type": "code",
   "execution_count": null,
   "outputs": [],
   "source": [
    "df.drop([\"video_path\", \"filename\", \"date\", \"landmark_count\"], axis=1, inplace=True)"
   ],
   "metadata": {
    "collapsed": false
   }
  },
  {
   "cell_type": "markdown",
   "source": [
    "## Classic features"
   ],
   "metadata": {
    "collapsed": false
   }
  },
  {
   "cell_type": "code",
   "execution_count": null,
   "outputs": [],
   "source": [
    "from paddel.preprocessing import load_landmarks\n",
    "from paddel.preprocessing import extract_classic_features\n",
    "\n",
    "classic_features = df.apply(\n",
    "    lambda row: extract_classic_features(\n",
    "        row[\"framerate\"],\n",
    "        load_landmarks(row[\"landmarks_path\"])\n",
    "    ),\n",
    "    axis=1\n",
    ")"
   ],
   "metadata": {
    "collapsed": false
   }
  },
  {
   "cell_type": "code",
   "execution_count": null,
   "outputs": [],
   "source": [
    "df[classic_features.columns] = classic_features\n",
    "df"
   ],
   "metadata": {
    "collapsed": false
   }
  }
 ],
 "metadata": {
  "kernelspec": {
   "display_name": "Python 3",
   "language": "python",
   "name": "python3"
  },
  "language_info": {
   "codemirror_mode": {
    "name": "ipython",
    "version": 2
   },
   "file_extension": ".py",
   "mimetype": "text/x-python",
   "name": "python",
   "nbconvert_exporter": "python",
   "pygments_lexer": "ipython2",
   "version": "2.7.6"
  }
 },
 "nbformat": 4,
 "nbformat_minor": 0
}
