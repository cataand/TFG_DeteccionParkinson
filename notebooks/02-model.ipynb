{
 "cells": [
  {
   "cell_type": "code",
   "execution_count": null,
   "metadata": {
    "collapsed": true,
    "ExecuteTime": {
     "start_time": "2023-04-15T19:51:11.835427Z",
     "end_time": "2023-04-15T19:51:11.837113Z"
    }
   },
   "outputs": [],
   "source": [
    "%load_ext autoreload\n",
    "%autoreload 2\n",
    "\n",
    "import logging\n",
    "\n",
    "logging.basicConfig(level=logging.INFO)"
   ]
  },
  {
   "cell_type": "code",
   "execution_count": null,
   "outputs": [],
   "source": [
    "from pathlib import Path\n",
    "\n",
    "import pandas as pd\n",
    "\n",
    "from paddel.preprocessing import get_data\n",
    "\n",
    "misc_df, classic_df, fresh_df, y = get_data(Path(\"../data/raw\"), Path(\"../data/cache\"))"
   ],
   "metadata": {
    "collapsed": false,
    "ExecuteTime": {
     "start_time": "2023-04-15T19:51:11.836131Z",
     "end_time": "2023-04-15T19:51:13.576985Z"
    }
   }
  },
  {
   "cell_type": "code",
   "execution_count": null,
   "outputs": [],
   "source": [
    "datasets = {\n",
    "    \"basic\": {\n",
    "        \"data\": misc_df,\n",
    "        \"params\": {},\n",
    "    },\n",
    "    \"classic\": {\n",
    "        \"data\": pd.concat([misc_df, classic_df], axis=1),\n",
    "        \"params\": {},\n",
    "    },\n",
    "    \"fresh\": {\n",
    "        \"data\": pd.concat([misc_df, fresh_df], axis=1),\n",
    "        \"params\": {\n",
    "            \"n_features\": [10, 20, 40, 80, 160, 240, 320, 400, 480, 560, 640, 720],\n",
    "        },\n",
    "    },\n",
    "    \"full\": {\n",
    "        \"data\": pd.concat([misc_df, classic_df, fresh_df], axis=1),\n",
    "        \"params\": {\n",
    "            \"n_features\": [10, 20, 40, 80, 160, 240, 320, 400, 480, 560, 640, 720],\n",
    "        },\n",
    "    },\n",
    "}"
   ],
   "metadata": {
    "collapsed": false,
    "ExecuteTime": {
     "start_time": "2023-04-15T19:51:13.579175Z",
     "end_time": "2023-04-15T19:51:13.602365Z"
    }
   }
  },
  {
   "cell_type": "code",
   "execution_count": null,
   "outputs": [],
   "source": [
    "from sklearn.svm import SVC\n",
    "from paddel.preprocessing.transformer import FeatureSelector\n",
    "from sklearn.preprocessing import QuantileTransformer\n",
    "from sklearn.pipeline import Pipeline\n",
    "\n",
    "pipe = Pipeline([\n",
    "    (\"scaler\", QuantileTransformer(n_quantiles=20).set_output(transform=\"pandas\")),\n",
    "    (\"select\", FeatureSelector(n_features=320)),\n",
    "    (\"model\", SVC(C=0.5, coef0=2, degree=8, gamma=\"auto\", kernel=\"poly\"))\n",
    "])"
   ],
   "metadata": {
    "collapsed": false,
    "ExecuteTime": {
     "start_time": "2023-04-15T19:51:13.637184Z",
     "end_time": "2023-04-15T19:51:13.687640Z"
    }
   }
  },
  {
   "cell_type": "code",
   "execution_count": null,
   "outputs": [],
   "source": [
    "pipe.fit(datasets[\"full\"][\"data\"], y)"
   ],
   "metadata": {
    "collapsed": false,
    "ExecuteTime": {
     "start_time": "2023-04-15T19:51:13.678492Z",
     "end_time": "2023-04-15T19:51:14.142741Z"
    }
   }
  },
  {
   "cell_type": "code",
   "execution_count": null,
   "outputs": [],
   "source": [
    "import pickle\n",
    "\n",
    "with open(Path(\"../data/model.pkl\"), \"wb\") as f:\n",
    "    pickle.dump(pipe, f)"
   ],
   "metadata": {
    "collapsed": false,
    "ExecuteTime": {
     "start_time": "2023-04-15T19:51:13.992217Z",
     "end_time": "2023-04-15T19:51:14.279683Z"
    }
   }
  }
 ],
 "metadata": {
  "kernelspec": {
   "display_name": "Python 3",
   "language": "python",
   "name": "python3"
  },
  "language_info": {
   "codemirror_mode": {
    "name": "ipython",
    "version": 2
   },
   "file_extension": ".py",
   "mimetype": "text/x-python",
   "name": "python",
   "nbconvert_exporter": "python",
   "pygments_lexer": "ipython2",
   "version": "2.7.6"
  }
 },
 "nbformat": 4,
 "nbformat_minor": 0
}
