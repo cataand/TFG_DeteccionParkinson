{
 "cells": [
  {
   "cell_type": "code",
   "execution_count": null,
   "outputs": [],
   "source": [
    "import pandas as pd\n",
    "\n",
    "%load_ext autoreload\n",
    "%autoreload 2"
   ],
   "metadata": {
    "collapsed": false
   }
  },
  {
   "cell_type": "code",
   "execution_count": null,
   "outputs": [],
   "source": [
    "import os\n",
    "import warnings\n",
    "\n",
    "os.environ['CUDA_VISIBLE_DEVICES'] = '-1'\n",
    "warnings.filterwarnings('ignore')"
   ],
   "metadata": {
    "collapsed": false
   }
  },
  {
   "cell_type": "code",
   "execution_count": null,
   "outputs": [],
   "source": [
    "from pathlib import Path\n",
    "\n",
    "results_folder = Path(\"../data/results\")\n",
    "results_folder.mkdir(parents=True, exist_ok=True)"
   ],
   "metadata": {
    "collapsed": false
   }
  },
  {
   "cell_type": "code",
   "execution_count": null,
   "outputs": [],
   "source": [
    "from paddel.plots import plot_grid_search"
   ],
   "metadata": {
    "collapsed": false
   }
  },
  {
   "cell_type": "code",
   "execution_count": null,
   "outputs": [],
   "source": [
    "results = pd.read_csv(results_folder / \"multiple_selections_results.csv\")\n",
    "\n",
    "results = results[results[\"dataset\"] == \"all_features\"]\n",
    "\n",
    "plot_grid_search(\n",
    "    data=results,\n",
    "    title=\"All models - All features\",\n",
    "    param_left=\"mean_test_accuracy\",\n",
    "    param_bottom=\"feature_amount\",\n",
    "    param_legend=\"model\",\n",
    "    param_left_name=\"Accuracy\",\n",
    "    param_bottom_name=\"Amount of features\",\n",
    "    param_legend_name=\"Model\"\n",
    ")"
   ],
   "metadata": {
    "collapsed": false
   }
  },
  {
   "cell_type": "code",
   "execution_count": null,
   "outputs": [],
   "source": [
    "plot_grid_search(\n",
    "    data=results[results[\"model\"] == \"SVC\"],\n",
    "    title=\"All models - All features\",\n",
    "    param_left=\"mean_test_accuracy\",\n",
    "    param_bottom=\"feature_amount\",\n",
    "    param_legend=\"model\",\n",
    "    param_left_name=\"Accuracy\",\n",
    "    param_bottom_name=\"Amount of features\",\n",
    "    param_legend_name=\"Model\"\n",
    ")"
   ],
   "metadata": {
    "collapsed": false
   }
  },
  {
   "cell_type": "code",
   "execution_count": null,
   "outputs": [],
   "source": [
    "current = results[(results[\"feature_amount\"] == 40) & (results[\"dataset\"] == \"all_features\")]"
   ],
   "metadata": {
    "collapsed": false
   }
  },
  {
   "cell_type": "code",
   "execution_count": null,
   "outputs": [],
   "source": [
    "plot_grid_search(\n",
    "    data=current[(current[\"model\"] == \"SVC\") & (current[\"dataset\"] == \"all_features\")],\n",
    "    title='SVC - All Features',\n",
    "    param_left='mean_test_accuracy',\n",
    "    param_bottom='param_model__degree',\n",
    "    param_legend='param_model__kernel',\n",
    "    param_left_name='Accuracy',\n",
    "    param_bottom_name='Degree',\n",
    "    param_legend_name='Kernel'\n",
    ")"
   ],
   "metadata": {
    "collapsed": false
   }
  },
  {
   "cell_type": "code",
   "execution_count": null,
   "outputs": [],
   "source": [
    "plot_grid_search(\n",
    "    data=current[(current[\"model\"] == \"XGBClassifier\") & (current[\"dataset\"] == \"all_features\")],\n",
    "    title='XGBClassifier - All Features',\n",
    "    param_left='mean_test_accuracy',\n",
    "    param_bottom='param_model__n_estimators',\n",
    "    param_legend='param_model__learning_rate',\n",
    "    param_left_name='Accuracy',\n",
    "    param_bottom_name='Nº Estimators',\n",
    "    param_legend_name='Grow Policy'\n",
    ")"
   ],
   "metadata": {
    "collapsed": false
   }
  },
  {
   "cell_type": "code",
   "execution_count": null,
   "outputs": [],
   "source": [
    "plot_grid_search(\n",
    "    data=current[(current[\"model\"] == \"XGBClassifier\") & (current[\"dataset\"] == \"all_features\")],\n",
    "    title='XGBClassifier - All Features',\n",
    "    param_left='mean_test_accuracy',\n",
    "    param_bottom='param_model__n_estimators',\n",
    "    param_legend='param_model__learning_rate',\n",
    "    param_left_name='Accuracy',\n",
    "    param_bottom_name='Nº Estimators',\n",
    "    param_legend_name='Grow Policy'\n",
    ")"
   ],
   "metadata": {
    "collapsed": false
   }
  },
  {
   "cell_type": "code",
   "execution_count": null,
   "outputs": [],
   "source": [
    "plot_grid_search(\n",
    "    data=current[(current[\"model\"] == \"KNeighborsClassifier\") & (current[\"dataset\"] == \"all_features\")],\n",
    "    title='KNeighborsClassifier - All Features',\n",
    "    param_left='mean_test_accuracy',\n",
    "    param_bottom='param_model__n_neighbors',\n",
    "    param_legend='param_model__metric',\n",
    "    param_left_name='Accuracy',\n",
    "    param_bottom_name='Nº Neighbours',\n",
    "    param_legend_name='Algorithm'\n",
    ")"
   ],
   "metadata": {
    "collapsed": false
   }
  }
 ],
 "metadata": {
  "kernelspec": {
   "display_name": "Python 3",
   "language": "python",
   "name": "python3"
  },
  "language_info": {
   "codemirror_mode": {
    "name": "ipython",
    "version": 2
   },
   "file_extension": ".py",
   "mimetype": "text/x-python",
   "name": "python",
   "nbconvert_exporter": "python",
   "pygments_lexer": "ipython2",
   "version": "2.7.6"
  }
 },
 "nbformat": 4,
 "nbformat_minor": 0
}
