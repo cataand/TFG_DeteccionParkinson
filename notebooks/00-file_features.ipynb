{
 "cells": [
  {
   "cell_type": "code",
   "execution_count": null,
   "metadata": {},
   "outputs": [],
   "source": [
    "import logging\n",
    "import pickle\n",
    "from pathlib import Path\n",
    "\n",
    "import numpy as np\n",
    "import pandas as pd\n",
    "\n",
    "from paddel.preprocessing import extract_filename_features\n",
    "from paddel.preprocessing.video import is_video, extract_video_framerate"
   ]
  },
  {
   "cell_type": "code",
   "execution_count": null,
   "metadata": {},
   "outputs": [],
   "source": [
    "logging.basicConfig(level=logging.INFO)\n",
    "\n",
    "data_dir = Path(\"../data\")\n",
    "raw_dir = data_dir / \"raw\"\n",
    "file_features_path = data_dir / \"file_features_df.pkl\"\n",
    "y_path = data_dir / \"y.pkl\""
   ]
  },
  {
   "cell_type": "markdown",
   "metadata": {},
   "source": [
    "Load paths"
   ]
  },
  {
   "cell_type": "code",
   "execution_count": null,
   "metadata": {},
   "outputs": [],
   "source": [
    "df = pd.DataFrame(raw_dir.iterdir(), columns=[\"video_path\"])"
   ]
  },
  {
   "cell_type": "markdown",
   "source": [
    "Extract features from filename"
   ],
   "metadata": {
    "collapsed": false
   }
  },
  {
   "cell_type": "code",
   "execution_count": null,
   "outputs": [],
   "source": [
    "filename_features = pd.DataFrame.from_records(df[\"video_path\"].apply(extract_filename_features))\n",
    "\n",
    "df = pd.concat([df, filename_features], axis=1, copy=False)\n",
    "\n",
    "df.drop(df[df[\"group\"] == -1].index, inplace=True)\n",
    "df.drop(df[df[\"hand\"] == -1].index, inplace=True)\n",
    "df.drop(df[df[\"handedness\"] == -1].index, inplace=True)"
   ],
   "metadata": {
    "collapsed": false
   }
  },
  {
   "cell_type": "markdown",
   "metadata": {},
   "source": [
    "Drop non-video files"
   ]
  },
  {
   "cell_type": "code",
   "execution_count": null,
   "metadata": {},
   "outputs": [],
   "source": [
    "indexes_to_keep = df[np.vectorize(is_video)(df[\"video_path\"])].index\n",
    "\n",
    "df = df.loc[indexes_to_keep]"
   ]
  },
  {
   "cell_type": "markdown",
   "metadata": {},
   "source": [
    "Extract video framerate"
   ]
  },
  {
   "cell_type": "code",
   "execution_count": null,
   "metadata": {},
   "outputs": [],
   "source": [
    "df[\"framerate\"] = df[\"video_path\"].apply(extract_video_framerate)"
   ]
  },
  {
   "cell_type": "markdown",
   "source": [
    "Create target"
   ],
   "metadata": {
    "collapsed": false
   }
  },
  {
   "cell_type": "code",
   "execution_count": null,
   "outputs": [],
   "source": [
    "y = pd.Series(df[\"group\"], index=df.index)\n",
    "df.drop(\"group\", axis=1, inplace=True)"
   ],
   "metadata": {
    "collapsed": false
   }
  },
  {
   "cell_type": "markdown",
   "source": [
    "Save dataframe and target"
   ],
   "metadata": {
    "collapsed": false
   }
  },
  {
   "cell_type": "code",
   "execution_count": null,
   "outputs": [],
   "source": [
    "with open(file_features_path, \"wb\") as f:\n",
    "    pickle.dump(df, f)\n",
    "\n",
    "with open(y_path, \"wb\") as f:\n",
    "    pickle.dump(y, f)"
   ],
   "metadata": {
    "collapsed": false
   }
  }
 ],
 "metadata": {
  "kernelspec": {
   "display_name": "Python 3 (ipykernel)",
   "language": "python",
   "name": "python3"
  },
  "language_info": {
   "codemirror_mode": {
    "name": "ipython",
    "version": 3
   },
   "file_extension": ".py",
   "mimetype": "text/x-python",
   "name": "python",
   "nbconvert_exporter": "python",
   "pygments_lexer": "ipython3",
   "version": "3.9.16"
  }
 },
 "nbformat": 4,
 "nbformat_minor": 1
}
