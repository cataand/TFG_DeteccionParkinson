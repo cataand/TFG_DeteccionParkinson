{
 "cells": [
  {
   "cell_type": "code",
   "execution_count": 71,
   "metadata": {
    "collapsed": true
   },
   "outputs": [],
   "source": [
    "import json\n",
    "import os\n",
    "\n",
    "import cv2\n",
    "import mediapipe as mp"
   ]
  },
  {
   "cell_type": "code",
   "execution_count": 72,
   "outputs": [],
   "source": [
    "if not os.path.exists('video_in'):\n",
    "    os.mkdir('video_in')\n",
    "\n",
    "if not os.path.exists('landmarks'):\n",
    "    os.mkdir('landmarks')"
   ],
   "metadata": {
    "collapsed": false
   }
  },
  {
   "cell_type": "code",
   "execution_count": 73,
   "outputs": [],
   "source": [
    "mp_drawing = mp.solutions.drawing_utils\n",
    "mp_drawing_styles = mp.solutions.drawing_styles\n",
    "mp_hands = mp.solutions.hands\n",
    "hands = mp_hands.Hands(\n",
    "    static_image_mode=False,\n",
    "    max_num_hands=1,\n",
    "    model_complexity=1,\n",
    "    min_detection_confidence=.9,\n",
    "    min_tracking_confidence=.9,\n",
    ")"
   ],
   "metadata": {
    "collapsed": false
   }
  },
  {
   "cell_type": "code",
   "execution_count": 74,
   "outputs": [],
   "source": [
    "def get_image_landmarks(image):\n",
    "    mp_result = hands.process(image)\n",
    "\n",
    "    # If hand not detected, retry, this time without\n",
    "    # tracking landmarks from previous image\n",
    "    if not mp_result.multi_hand_landmarks:\n",
    "        mp_result = hands.process(image)\n",
    "\n",
    "    landmarks = mp_result.multi_hand_landmarks[0].landmark\n",
    "\n",
    "    return [(lm.x, lm.y, lm.z) for lm in landmarks[0:9]]"
   ],
   "metadata": {
    "collapsed": false
   }
  },
  {
   "cell_type": "code",
   "execution_count": 75,
   "outputs": [],
   "source": [
    "def get_video_info(video_path):\n",
    "    vc = cv2.VideoCapture(video_path)\n",
    "\n",
    "    ret = {\n",
    "        'width': int(vc.get(cv2.CAP_PROP_FRAME_WIDTH)),\n",
    "        'height': int(vc.get(cv2.CAP_PROP_FRAME_HEIGHT)),\n",
    "        'frames': int(vc.get(cv2.CAP_PROP_FRAME_COUNT)),\n",
    "        'fps': vc.get(cv2.CAP_PROP_FPS),\n",
    "        'fourcc': int(vc.get(cv2.CAP_PROP_FOURCC)),\n",
    "    }\n",
    "\n",
    "    vc.release()\n",
    "    return ret\n",
    "\n",
    "def read_video(video_path):\n",
    "    vc = cv2.VideoCapture(video_path)\n",
    "    is_portrait = vc.get(cv2.CAP_PROP_FRAME_WIDTH) < vc.get(cv2.CAP_PROP_FRAME_HEIGHT)\n",
    "    while vc.grab():\n",
    "        bgr = vc.retrieve()[1]\n",
    "        if is_portrait:\n",
    "            bgr = cv2.rotate(bgr, cv2.ROTATE_180)\n",
    "        yield cv2.cvtColor(bgr, cv2.COLOR_BGR2RGB)\n",
    "    vc.release()"
   ],
   "metadata": {
    "collapsed": false
   }
  },
  {
   "cell_type": "code",
   "execution_count": 76,
   "outputs": [],
   "source": [
    "def get_video_landmarks(video_path):\n",
    "    video = read_video(video_path)\n",
    "    video_info = get_video_info(video_path)\n",
    "    video_landmarks = []\n",
    "\n",
    "    for frame_number, image in enumerate(video):\n",
    "        video_landmarks.append({\n",
    "            'time': frame_number / video_info['fps'],\n",
    "            'landmarks': get_image_landmarks(image)\n",
    "        })\n",
    "\n",
    "    return video_landmarks"
   ],
   "metadata": {
    "collapsed": false
   }
  },
  {
   "cell_type": "code",
   "execution_count": 77,
   "outputs": [],
   "source": [
    "for file in os.listdir('video_in'):\n",
    "    video_landmarks = get_video_landmarks(f'video_in/{file}')\n",
    "    file_name = os.path.splitext(file)[0]\n",
    "    with open(f'landmarks/{file_name}.json', 'w') as outfile:\n",
    "        json.dump(video_landmarks, outfile)"
   ],
   "metadata": {
    "collapsed": false
   }
  }
 ],
 "metadata": {
  "kernelspec": {
   "display_name": "Python 3",
   "language": "python",
   "name": "python3"
  },
  "language_info": {
   "codemirror_mode": {
    "name": "ipython",
    "version": 2
   },
   "file_extension": ".py",
   "mimetype": "text/x-python",
   "name": "python",
   "nbconvert_exporter": "python",
   "pygments_lexer": "ipython2",
   "version": "2.7.6"
  }
 },
 "nbformat": 4,
 "nbformat_minor": 0
}
